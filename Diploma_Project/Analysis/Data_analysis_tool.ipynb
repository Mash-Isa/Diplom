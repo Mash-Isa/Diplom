{
 "cells": [
  {
   "cell_type": "markdown",
   "metadata": {
    "pycharm": {
     "name": "#%% md\n"
    }
   },
   "source": [
    "<h1 style=\"text-align: center;\">Analysis tool</h1>\n",
    "<center><img src=\"../img/IMG_8195.png\" width=\"200\" height=\"150\"></center>\n",
    "<h4 style=\"text-align: center;\">by Maria Isaeva 6.04.122.010.18.1</h4>\n",
    "<p>Importing required libraries and files, just run this cell.</p>"
   ]
  },
  {
   "cell_type": "code",
   "execution_count": null,
   "metadata": {
    "pycharm": {
     "name": "#%%\n"
    }
   },
   "outputs": [],
   "source": [
    "from plot_functions import *\n",
    "from other import *\n",
    "import warnings\n",
    "warnings.filterwarnings(\"ignore\")\n",
    "sns.set()\n",
    "%config InlineBackend.figure_format = 'retina'\n",
    "plotter = Plotter()\n",
    "data_loader = DataLoader()"
   ]
  },
  {
   "cell_type": "markdown",
   "metadata": {
    "pycharm": {
     "is_executing": true,
     "name": "#%% md\n"
    }
   },
   "source": [
    "<h3 style=\"text-align: center;\">Choose your csv file with data</h3>\n",
    "<p>Select your csv file from the dropdown list. It should be located in the \"data\" folder.</p>"
   ]
  },
  {
   "cell_type": "code",
   "execution_count": null,
   "metadata": {
    "pycharm": {
     "name": "#%%\n"
    }
   },
   "outputs": [],
   "source": [
    "folder = '../data'\n",
    "selected_file = data_loader.choose_file(folder)"
   ]
  },
  {
   "cell_type": "markdown",
   "metadata": {
    "pycharm": {
     "name": "#%% md\n"
    }
   },
   "source": [
    "<h3 style=\"text-align: center;\">Look at dataset information</h3>\n",
    "<p>Here you can view various information about your dataset: display the first 10 rows, view the number of rows and columns, display the names of all columns, view information about the dataset (column data types, non-null values, etc.) and columns statistics.</p>\n",
    "<p>Just press the appropriate buttons. To remove the button's output, click on it again.\n",
    "</p>\n",
    "<p>Please note that at this stage, the categorical columns of your dataset are changed: extra spaces are removed and brought to a single case.</p>"
   ]
  },
  {
   "cell_type": "code",
   "execution_count": null,
   "metadata": {
    "pycharm": {
     "name": "#%%\n"
    }
   },
   "outputs": [],
   "source": [
    "df = data_loader.read_data_from_csv(folder, selected_file)\n",
    "data_loader.show_df_info(df)"
   ]
  },
  {
   "cell_type": "markdown",
   "metadata": {
    "pycharm": {
     "name": "#%% md\n"
    }
   },
   "source": [
    "<h3 style=\"text-align: center;\">Plot Histograms for all numeric columns</h3>\n",
    "<p>Click the button to plot histograms for each numerical column in the dataset.</p>"
   ]
  },
  {
   "cell_type": "code",
   "execution_count": null,
   "metadata": {},
   "outputs": [],
   "source": [
    "plotter.plot_hist(df)"
   ]
  },
  {
   "cell_type": "markdown",
   "metadata": {
    "pycharm": {
     "name": "#%% md\n"
    }
   },
   "source": [
    "<h3 style=\"text-align: center;\">Plot Histogram and KDE of selected column</h3>\n",
    "<p>To view the histogram separately for a specific column, use this cell. Additionally, KDE will be built.</p>\n",
    "<p>A kernel density estimate (KDE) plot is a method for visualizing the distribution of observations in a dataset, analagous to a histogram. KDE represents the data using a continuous probability density curve in one or more dimensions.</p>\n",
    "<p>From the drop-down list, select the column that will be on the X-axis of the graph and click on the button to plot it.</p>"
   ]
  },
  {
   "cell_type": "code",
   "execution_count": null,
   "metadata": {},
   "outputs": [],
   "source": [
    "plotter.plot_distplot(df)"
   ]
  },
  {
   "cell_type": "markdown",
   "metadata": {
    "pycharm": {
     "name": "#%% md\n"
    }
   },
   "source": [
    "<h3 style=\"text-align: center;\">Plot Boxplot and Violin plot of selected column</h3>\n",
    "<p>Here you can plot a boxplot and a violin plot.</p>\n",
    "<p>From the drop-down list, select the column that will be on the X-axis of the graph and click on the button to plot it.</p>"
   ]
  },
  {
   "cell_type": "code",
   "execution_count": null,
   "metadata": {},
   "outputs": [],
   "source": [
    "plotter.plot_boxplot(df)"
   ]
  },
  {
   "cell_type": "markdown",
   "metadata": {
    "pycharm": {
     "name": "#%% md\n"
    }
   },
   "source": [
    "<h3 style=\"text-align: center;\">Plot Barplot of selected columns</h3>\n",
    "<p>In this cell, you can plot a barplot of any of the categorical features with a splitting by any other categorical feature.</p>\n",
    "<p>From the drop-down list, select the column that will be on the X-axis of the graph, the column that will be used for splitting and click on the button to plot it.</p>"
   ]
  },
  {
   "cell_type": "code",
   "execution_count": null,
   "metadata": {
    "pycharm": {
     "name": "#%%\n"
    }
   },
   "outputs": [],
   "source": [
    "plotter.plot_bar_chart(df)"
   ]
  },
  {
   "cell_type": "markdown",
   "metadata": {
    "pycharm": {
     "name": "#%% md\n"
    }
   },
   "source": [
    "<h3 style=\"text-align: center;\">Plot KDE of selected column</h3>\n",
    "<p>Here you can plot KDE plot of any numerical column.</p>\n",
    "<p>The \"column\" parameter must contain the name of the column in which the patient's diagnosis is located.\n",
    "The \"disease_name\" parameter must contain the name of the disease for which you want to compare.\n",
    "If there is no such column in your dataset, you can use any other categorical column for comparison, or skip this cell.</p>\n",
    "<p>From the drop-down list, select the column that will be on the X-axis of the graph and click on the button to plot it.</p>"
   ]
  },
  {
   "cell_type": "code",
   "execution_count": null,
   "metadata": {
    "pycharm": {
     "name": "#%%\n"
    }
   },
   "outputs": [],
   "source": [
    "plotter.plot_distribution(df=df, column='Diagnosis', disease_name='Covid19')"
   ]
  },
  {
   "cell_type": "markdown",
   "metadata": {
    "pycharm": {
     "is_executing": true,
     "name": "#%% md\n"
    }
   },
   "source": [
    "<h3 style=\"text-align: center;\">Plot Scatter plot of selected columns</h3>\n",
    "<p>In this cell, you can plot a scatter plot of numerical features with coloring for any categorical feature.</p>\n",
    "<p>From the drop-down list, select the column that will be on the X-axis of the graph, the column that will be on the Y-axis, the column that will be used for coloring and click on the button to plot it.</p>"
   ]
  },
  {
   "cell_type": "code",
   "execution_count": null,
   "metadata": {
    "pycharm": {
     "name": "#%%\n"
    }
   },
   "outputs": [],
   "source": [
    "plotter.plot_scatter(df)"
   ]
  },
  {
   "cell_type": "markdown",
   "metadata": {
    "pycharm": {
     "name": "#%% md\n"
    }
   },
   "source": [
    "<h3 style=\"text-align: center;\">Plot Correlation of all columns</h3>\n",
    "<p>Here you can plot the correlation of all numerical columns with each other. Click the button to display the graph.</p>"
   ]
  },
  {
   "cell_type": "code",
   "execution_count": null,
   "metadata": {},
   "outputs": [],
   "source": [
    "plotter.plot_corr(df)"
   ]
  }
 ],
 "metadata": {
  "kernelspec": {
   "display_name": "Python 3 (ipykernel)",
   "language": "python",
   "name": "python3"
  },
  "language_info": {
   "codemirror_mode": {
    "name": "ipython",
    "version": 3
   },
   "file_extension": ".py",
   "mimetype": "text/x-python",
   "name": "python",
   "nbconvert_exporter": "python",
   "pygments_lexer": "ipython3",
   "version": "3.9.7"
  }
 },
 "nbformat": 4,
 "nbformat_minor": 1
}