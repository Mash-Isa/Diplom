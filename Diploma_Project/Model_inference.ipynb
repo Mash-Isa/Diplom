{
 "cells": [
  {
   "cell_type": "markdown",
   "metadata": {
    "pycharm": {
     "name": "#%% md\n"
    }
   },
   "source": [
    "<h1 style=\"text-align: center;\">Model Inference</h1>\n",
    "<center><img src=\"img/IMG_8195.png\" width=\"200\" height=\"150\"></center>\n",
    "<h4 style=\"text-align: center;\">by Maria Isaeva 6.04.122.010.18.1</h4>\n",
    "<p>Importing required libraries and files, just run this cell.</p>"
   ]
  },
  {
   "cell_type": "code",
   "execution_count": 17,
   "metadata": {
    "pycharm": {
     "name": "#%%\n"
    }
   },
   "outputs": [],
   "source": [
    "from Analysis.other import *\n",
    "import warnings\n",
    "warnings.filterwarnings(\"ignore\")\n",
    "from sklearn.metrics import classification_report"
   ]
  },
  {
   "cell_type": "markdown",
   "metadata": {},
   "source": [
    "<h3 style=\"text-align: center;\">Choose your csv file with data</h3>\n",
    "<p>Select your csv file from the dropdown list. It should be located in the \"data\" folder.</p>"
   ]
  },
  {
   "cell_type": "code",
   "execution_count": 18,
   "metadata": {
    "pycharm": {
     "name": "#%%\n"
    }
   },
   "outputs": [
    {
     "data": {
      "application/vnd.jupyter.widget-view+json": {
       "model_id": "0ffb8942a5af47bda1704079d9b9cf3a",
       "version_major": 2,
       "version_minor": 0
      },
      "text/plain": [
       "HBox(children=(Dropdown(description='File Name', options=('COVIDandFLUdata.csv', 'data_with_predictions.csv', …"
      ]
     },
     "metadata": {},
     "output_type": "display_data"
    }
   ],
   "source": [
    "folder = 'data'\n",
    "selected_file = choose_file(folder)"
   ]
  },
  {
   "cell_type": "code",
   "execution_count": 19,
   "metadata": {
    "pycharm": {
     "name": "#%%\n"
    }
   },
   "outputs": [
    {
     "data": {
      "application/vnd.jupyter.widget-view+json": {
       "model_id": "95d08366204d43cb9bbbe8a5ab72ed68",
       "version_major": 2,
       "version_minor": 0
      },
      "text/plain": [
       "HBox(children=(ToggleButton(value=False, description='Show 10 first rows'), ToggleButton(value=False, descript…"
      ]
     },
     "metadata": {},
     "output_type": "display_data"
    },
    {
     "data": {
      "application/vnd.jupyter.widget-view+json": {
       "model_id": "64b27450781f4101831329389f66bd84",
       "version_major": 2,
       "version_minor": 0
      },
      "text/plain": [
       "Output()"
      ]
     },
     "metadata": {},
     "output_type": "display_data"
    }
   ],
   "source": [
    "df = read_data_from_csv_for_model(folder, selected_file)\n",
    "show_df_info(df)"
   ]
  },
  {
   "cell_type": "markdown",
   "metadata": {},
   "source": [
    "<h3 style=\"text-align: center;\">Dataset preparing</h3>\n",
    "<p>In the corresponding lists, you need to pass the names of the categorical columns that are used in the model and the names of the columns that should be excluded from the dataset.</p>\n",
    "<p>Also, if your dataset contains a target column with a diagnosis, specify True in the have_label parameter and specify the name of this column and the name of the disease in the subsequent parameters.</p>\n",
    "<p>If there is no target column in the dataset, set the have_label parameter to False and skip the subsequent parameters. In this case, the function will return only the dataset X.</p>"
   ]
  },
  {
   "cell_type": "code",
   "execution_count": 20,
   "metadata": {
    "pycharm": {
     "name": "#%%\n"
    }
   },
   "outputs": [],
   "source": [
    "categorical_columns = ['Sex', 'CTscanResults', 'XrayResults', 'SmokingStatus', 'Diarrhea'\n",
    "    , 'Fever', 'Coughing', 'ShortnessOfBreath', 'SoreThroat', 'NauseaVomitting', 'Pregnant', 'Fatigue', 'Cancer'\n",
    "    , 'neutrophilCategorical', 'serumLevelsOfWhiteBloodCellCategorical', 'lymphocytesCategorical', 'CReactiveProteinLevelsCategorical']\n",
    "features_to_drop = ['DaysToDeath', 'DaysInIncubation', 'VapingStatus', 'TimeBetweenAdmissionAndDiagnosis']\n",
    "X, y = format_columns(df=df, features_to_encode=categorical_columns, \n",
    "                      features_to_drop=features_to_drop, \n",
    "                      have_label=True, \n",
    "                      label='Diagnosis', label_name='COVID19')"
   ]
  },
  {
   "cell_type": "markdown",
   "metadata": {},
   "source": [
    "<h3 style=\"text-align: center;\">Check model results</h3>\n",
    "<p>Here you can check the results of the model if there is a target column in your dataset. If not, skip this cell.</p>\n",
    "<p>In the model parameters, you need to specify the model file, a file with a list of columns in the correct order in which the model will use them, and also specify the trashhold. The predicted probabilities of the model that are above the trashhold will be assigned to the first class.</p>"
   ]
  },
  {
   "cell_type": "code",
   "execution_count": 21,
   "metadata": {
    "pycharm": {
     "name": "#%%\n"
    }
   },
   "outputs": [
    {
     "name": "stdout",
     "output_type": "stream",
     "text": [
      "              precision    recall  f1-score   support\n",
      "\n",
      "           0       0.99      1.00      0.99      1072\n",
      "           1       0.99      0.96      0.98       413\n",
      "\n",
      "    accuracy                           0.99      1485\n",
      "   macro avg       0.99      0.98      0.98      1485\n",
      "weighted avg       0.99      0.99      0.99      1485\n",
      "\n"
     ]
    }
   ],
   "source": [
    "model_parameters = {\n",
    "    'model_path': 'rf_covid19.joblib',\n",
    "    'model_columns_path': 'rf_covid19_columns.pkl',\n",
    "    'thr': 0.6\n",
    "}\n",
    "proba, pred = get_model_prediction(**model_parameters, X=X)\n",
    "print(classification_report(y, pred))"
   ]
  },
  {
   "cell_type": "markdown",
   "metadata": {},
   "source": [
    "<h3 style=\"text-align: center;\">Get model decision</h3>\n",
    "<p>In this cell, you can display the decision of the model on the transferred data.</p>\n",
    "<p>The X parameter is to pass the data for which you want to get the prediction of the model.</p>"
   ]
  },
  {
   "cell_type": "code",
   "execution_count": 22,
   "metadata": {
    "pycharm": {
     "name": "#%%\n"
    }
   },
   "outputs": [
    {
     "name": "stdout",
     "output_type": "stream",
     "text": [
      "____________________________________________________________________________________________________\n",
      "\n",
      "Patient 1\n",
      "Model decision for Covid-19: No with Covid-19 probability 0.0\n",
      "____________________________________________________________________________________________________\n",
      "____________________________________________________________________________________________________\n",
      "\n",
      "Patient 2\n",
      "Model decision for Covid-19: No with Covid-19 probability 0.41\n",
      "____________________________________________________________________________________________________\n"
     ]
    }
   ],
   "source": [
    "get_model_decision(**model_parameters, X=X[:2])"
   ]
  },
  {
   "cell_type": "markdown",
   "metadata": {},
   "source": [
    "<h3 style=\"text-align: center;\">Save model predictions to file</h3>\n",
    "<p>In this cell, you can save the model's predictions to the initial file.</p>"
   ]
  },
  {
   "cell_type": "code",
   "execution_count": null,
   "metadata": {},
   "outputs": [],
   "source": [
    "save_predictions_to_file(**model_parameters,\n",
    "                         X=X, raw_df=df, new_file_name='data/data_with_predictions.csv')"
   ]
  }
 ],
 "metadata": {
  "kernelspec": {
   "display_name": "Python 3 (ipykernel)",
   "language": "python",
   "name": "python3"
  },
  "language_info": {
   "codemirror_mode": {
    "name": "ipython",
    "version": 3
   },
   "file_extension": ".py",
   "mimetype": "text/x-python",
   "name": "python",
   "nbconvert_exporter": "python",
   "pygments_lexer": "ipython3",
   "version": "3.9.7"
  }
 },
 "nbformat": 4,
 "nbformat_minor": 1
}